{
 "cells": [
  {
   "cell_type": "markdown",
   "metadata": {},
   "source": [
    "## python推荐系统库Surprise"
   ]
  },
  {
   "cell_type": "markdown",
   "metadata": {},
   "source": [
    "![](./Surprise.png)"
   ]
  },
  {
   "cell_type": "markdown",
   "metadata": {},
   "source": [
    "在推荐系统的建模过程中，我们将用到python库 [Surprise(Simple Python RecommendatIon System Engine)](https://github.com/NicolasHug/Surprise)，是scikit系列中的一个(很多同学用过scikit-learn和scikit-image等库)。\n",
    "\n",
    "### 简单易用，同时支持多种推荐算法：\n",
    "* [基础算法/baseline algorithms](http://surprise.readthedocs.io/en/stable/basic_algorithms.html)\n",
    "* [基于近邻方法(协同过滤)/neighborhood methods](http://surprise.readthedocs.io/en/stable/knn_inspired.html)\n",
    "* [矩阵分解方法/matrix factorization-based (SVD, PMF, SVD++, NMF)](http://surprise.readthedocs.io/en/stable/matrix_factorization.html#surprise.prediction_algorithms.matrix_factorization.SVD)\n",
    "\n",
    "| 算法类名        | 说明  |\n",
    "| ------------- |:-----|\n",
    "|[random_pred.NormalPredictor](http://surprise.readthedocs.io/en/stable/basic_algorithms.html#surprise.prediction_algorithms.random_pred.NormalPredictor)|Algorithm predicting a random rating based on the distribution of the training set, which is assumed to be normal.|\n",
    "|[baseline_only.BaselineOnly](http://surprise.readthedocs.io/en/stable/basic_algorithms.html#surprise.prediction_algorithms.baseline_only.BaselineOnly)|Algorithm predicting the baseline estimate for given user and item.|\n",
    "|[knns.KNNBasic](http://surprise.readthedocs.io/en/stable/knn_inspired.html#surprise.prediction_algorithms.knns.KNNBasic)|A basic collaborative filtering algorithm.|\n",
    "|[knns.KNNWithMeans](http://surprise.readthedocs.io/en/stable/knn_inspired.html#surprise.prediction_algorithms.knns.KNNWithMeans)|A basic collaborative filtering algorithm, taking into account the mean ratings of each user.|\n",
    "|[knns.KNNBaseline](http://surprise.readthedocs.io/en/stable/knn_inspired.html#surprise.prediction_algorithms.knns.KNNBaseline)|A basic collaborative filtering algorithm taking into account a baseline rating.|\t\n",
    "|[matrix_factorization.SVD](http://surprise.readthedocs.io/en/stable/matrix_factorization.html#surprise.prediction_algorithms.matrix_factorization.SVD)|The famous SVD algorithm, as popularized by Simon Funk during the Netflix Prize.|\n",
    "|[matrix_factorization.SVDpp](http://surprise.readthedocs.io/en/stable/matrix_factorization.html#surprise.prediction_algorithms.matrix_factorization.SVDpp)|The SVD++ algorithm, an extension of SVD taking into account implicit ratings.|\n",
    "|[matrix_factorization.NMF](http://surprise.readthedocs.io/en/stable/matrix_factorization.html#surprise.prediction_algorithms.matrix_factorization.NMF)|A collaborative filtering algorithm based on Non-negative Matrix Factorization.|\n",
    "|[slope_one.SlopeOne](http://surprise.readthedocs.io/en/stable/slope_one.html#surprise.prediction_algorithms.slope_one.SlopeOne)|A simple yet accurate collaborative filtering algorithm.|\n",
    "|[co_clustering.CoClustering](http://surprise.readthedocs.io/en/stable/co_clustering.html#surprise.prediction_algorithms.co_clustering.CoClustering)|A collaborative filtering algorithm based on co-clustering.|"
   ]
  },
  {
   "cell_type": "markdown",
   "metadata": {},
   "source": [
    "### 其中基于近邻的方法(协同过滤)可以设定不同的度量准则。\n",
    "\n",
    "| 相似度度量标准 | 度量标准说明  |\n",
    "| ------------- |:-----|\n",
    "|[cosine](http://surprise.readthedocs.io/en/stable/similarities.html#surprise.similarities.cosine)|Compute the cosine similarity between all pairs of users (or items).|\n",
    "|[msd](http://surprise.readthedocs.io/en/stable/similarities.html#surprise.similarities.msd)|Compute the Mean Squared Difference similarity between all pairs of users (or items).|\n",
    "|[pearson](http://surprise.readthedocs.io/en/stable/similarities.html#surprise.similarities.pearson)|Compute the Pearson correlation coefficient between all pairs of users (or items).|\n",
    "|[pearson_baseline](http://surprise.readthedocs.io/en/stable/similarities.html#surprise.similarities.pearson_baseline)|Compute the (shrunk) Pearson correlation coefficient between all pairs of users (or items) using baselines for centering instead of means.|"
   ]
  },
  {
   "cell_type": "markdown",
   "metadata": {},
   "source": [
    "### Jaccard similarity\n",
    "交集元素个数/并集元素个数"
   ]
  },
  {
   "cell_type": "markdown",
   "metadata": {},
   "source": [
    "### 支持不同的评估准则\n",
    "| 评估准则 | 准则说明  |\n",
    "| ------------- |:-----|\n",
    "|[rmse](http://surprise.readthedocs.io/en/stable/accuracy.html#surprise.accuracy.rmse)|Compute RMSE (Root Mean Squared Error).|\n",
    "|[msd](http://surprise.readthedocs.io/en/stable/similarities.html#surprise.similarities.msd)|Compute MAE (Mean Absolute Error).|\n",
    "|[fcp](http://surprise.readthedocs.io/en/stable/accuracy.html#surprise.accuracy.fcp)|Compute FCP (Fraction of Concordant Pairs).|"
   ]
  },
  {
   "cell_type": "markdown",
   "metadata": {},
   "source": [
    "### 使用示例"
   ]
  },
  {
   "cell_type": "markdown",
   "metadata": {},
   "source": [
    "#### 基本使用方法如下"
   ]
  },
  {
   "cell_type": "markdown",
   "metadata": {},
   "source": [
    "```python\n",
    "# 可以使用上面提到的各种推荐系统算法\n",
    "from surprise import SVD\n",
    "from surprise import Dataset\n",
    "from surprise import evaluate, print_perf\n",
    "\n",
    "# 默认载入movielens数据集\n",
    "data = Dataset.load_builtin('ml-100k')\n",
    "# k折交叉验证(k=3)\n",
    "data.split(n_folds=3)\n",
    "# 试一把SVD矩阵分解\n",
    "algo = SVD()\n",
    "# 在数据集上测试一下效果\n",
    "perf = evaluate(algo, data, measures=['RMSE', 'MAE'])\n",
    "#输出结果\n",
    "print_perf(perf)\n",
    "```"
   ]
  },
  {
   "cell_type": "code",
   "execution_count": 1,
   "metadata": {},
   "outputs": [
    {
     "name": "stderr",
     "output_type": "stream",
     "text": [
      "E:\\D\\Anaconda\\lib\\site-packages\\surprise\\evaluate.py:66: UserWarning: The evaluate() method is deprecated. Please use model_selection.cross_validate() instead.\n",
      "  'model_selection.cross_validate() instead.', UserWarning)\n",
      "E:\\D\\Anaconda\\lib\\site-packages\\surprise\\dataset.py:193: UserWarning: Using data.split() or using load_from_folds() without using a CV iterator is now deprecated. \n",
      "  UserWarning)\n"
     ]
    },
    {
     "name": "stdout",
     "output_type": "stream",
     "text": [
      "Evaluating RMSE, MAE of algorithm KNNWithMeans.\n",
      "\n",
      "------------\n",
      "Fold 1\n",
      "Computing the msd similarity matrix...\n",
      "Done computing similarity matrix.\n",
      "RMSE: 0.9575\n",
      "MAE:  0.7536\n",
      "------------\n",
      "Fold 2\n",
      "Computing the msd similarity matrix...\n",
      "Done computing similarity matrix.\n",
      "RMSE: 0.9555\n",
      "MAE:  0.7542\n",
      "------------\n",
      "Fold 3\n",
      "Computing the msd similarity matrix...\n",
      "Done computing similarity matrix.\n",
      "RMSE: 0.9586\n",
      "MAE:  0.7543\n",
      "------------\n",
      "------------\n",
      "Mean RMSE: 0.9572\n",
      "Mean MAE : 0.7540\n",
      "------------\n",
      "------------\n",
      "        Fold 1  Fold 2  Fold 3  Mean    \n",
      "RMSE    0.9575  0.9555  0.9586  0.9572  \n",
      "MAE     0.7536  0.7542  0.7543  0.7540  \n"
     ]
    }
   ],
   "source": [
    "# 可以使用上面提到的各种推荐系统算法\n",
    "from surprise import SVD,KNNWithMeans\n",
    "from surprise import Dataset\n",
    "from surprise import evaluate, print_perf\n",
    "\n",
    "# 默认载入movielens数据集\n",
    "data = Dataset.load_builtin('ml-100k')\n",
    "# k折交叉验证(k=3)\n",
    "data.split(n_folds=3)\n",
    "# 试一把SVD矩阵分解\n",
    "# algo = SVD()\n",
    "algo=KNNWithMeans()\n",
    "# 在数据集上测试一下效果\n",
    "perf = evaluate(algo, data, measures=['RMSE', 'MAE'])\n",
    "#输出结果\n",
    "print_perf(perf)"
   ]
  },
  {
   "cell_type": "markdown",
   "metadata": {},
   "source": [
    "#### 载入自己的数据集方法"
   ]
  },
  {
   "cell_type": "markdown",
   "metadata": {},
   "source": [
    "```python\n",
    "# 指定文件所在路径\n",
    "file_path = os.path.expanduser('~/.surprise_data/ml-100k/ml-100k/u.data')\n",
    "# 告诉文本阅读器，文本的格式是怎么样的\n",
    "reader = Reader(line_format='user item rating timestamp', sep='\\t')\n",
    "# 加载数据\n",
    "data = Dataset.load_from_file(file_path, reader=reader)\n",
    "# 手动切分成5折(方便交叉验证)\n",
    "data.split(n_folds=5)\n",
    "```"
   ]
  },
  {
   "cell_type": "markdown",
   "metadata": {},
   "source": [
    "#### 算法调参(让推荐系统有更好的效果)"
   ]
  },
  {
   "cell_type": "markdown",
   "metadata": {},
   "source": [
    "这里实现的算法用到的算法无外乎也是SGD等，因此也有一些超参数会影响最后的结果，我们同样可以用sklearn中常用到的网格搜索交叉验证(GridSearchCV)来选择最优的参数。简单的例子如下所示："
   ]
  },
  {
   "cell_type": "markdown",
   "metadata": {},
   "source": [
    "```python\n",
    "# 定义好需要优选的参数网格\n",
    "param_grid = {'n_epochs': [5, 10], 'lr_all': [0.002, 0.005],\n",
    "              'reg_all': [0.4, 0.6]}\n",
    "# 使用网格搜索交叉验证\n",
    "grid_search = GridSearch(SVD, param_grid, measures=['RMSE', 'FCP'])\n",
    "# 在数据集上找到最好的参数\n",
    "data = Dataset.load_builtin('ml-100k')\n",
    "data.split(n_folds=3)\n",
    "grid_search.evaluate(data)\n",
    "# 输出调优的参数组 \n",
    "# 输出最好的RMSE结果\n",
    "print(grid_search.best_score['RMSE'])\n",
    "# >>> 0.96117566386\n",
    "\n",
    "# 输出对应最好的RMSE结果的参数\n",
    "print(grid_search.best_params['RMSE'])\n",
    "# >>> {'reg_all': 0.4, 'lr_all': 0.005, 'n_epochs': 10}\n",
    "\n",
    "# 最好的FCP得分\n",
    "print(grid_search.best_score['FCP'])\n",
    "# >>> 0.702279736531\n",
    "\n",
    "# 对应最高FCP得分的参数\n",
    "print(grid_search.best_params['FCP'])\n",
    "# >>> {'reg_all': 0.6, 'lr_all': 0.005, 'n_epochs': 10}\n",
    "```"
   ]
  },
  {
   "cell_type": "markdown",
   "metadata": {},
   "source": [
    "## 在我们的数据集上训练模型"
   ]
  },
  {
   "cell_type": "markdown",
   "metadata": {},
   "source": [
    "## 建模和存储模型"
   ]
  },
  {
   "cell_type": "markdown",
   "metadata": {
    "collapsed": true
   },
   "source": [
    "### 1.用协同过滤构建模型并进行预测"
   ]
  },
  {
   "cell_type": "markdown",
   "metadata": {},
   "source": [
    "#### 1.1 movielens的例子"
   ]
  },
  {
   "cell_type": "code",
   "execution_count": 2,
   "metadata": {},
   "outputs": [
    {
     "name": "stderr",
     "output_type": "stream",
     "text": [
      "E:\\D\\Anaconda\\lib\\site-packages\\surprise\\evaluate.py:66: UserWarning: The evaluate() method is deprecated. Please use model_selection.cross_validate() instead.\n",
      "  'model_selection.cross_validate() instead.', UserWarning)\n",
      "E:\\D\\Anaconda\\lib\\site-packages\\surprise\\dataset.py:193: UserWarning: Using data.split() or using load_from_folds() without using a CV iterator is now deprecated. \n",
      "  UserWarning)\n"
     ]
    },
    {
     "name": "stdout",
     "output_type": "stream",
     "text": [
      "Evaluating RMSE, MAE of algorithm KNNWithMeans.\n",
      "\n",
      "------------\n",
      "Fold 1\n",
      "Computing the msd similarity matrix...\n",
      "Done computing similarity matrix.\n",
      "RMSE: 0.9553\n",
      "MAE:  0.7514\n",
      "------------\n",
      "Fold 2\n",
      "Computing the msd similarity matrix...\n",
      "Done computing similarity matrix.\n",
      "RMSE: 0.9562\n",
      "MAE:  0.7539\n",
      "------------\n",
      "Fold 3\n",
      "Computing the msd similarity matrix...\n",
      "Done computing similarity matrix.\n",
      "RMSE: 0.9564\n",
      "MAE:  0.7536\n",
      "------------\n",
      "------------\n",
      "Mean RMSE: 0.9560\n",
      "Mean MAE : 0.7530\n",
      "------------\n",
      "------------\n",
      "        Fold 1  Fold 2  Fold 3  Mean    \n",
      "RMSE    0.9553  0.9562  0.9564  0.9560  \n",
      "MAE     0.7514  0.7539  0.7536  0.7530  \n"
     ]
    }
   ],
   "source": [
    "# 可以使用上面提到的各种推荐系统算法\n",
    "from surprise import KNNWithMeans\n",
    "from surprise import Dataset\n",
    "from surprise import evaluate, print_perf\n",
    "\n",
    "# 默认载入movielens数据集\n",
    "data = Dataset.load_builtin('ml-100k')\n",
    "# k折交叉验证(k=3)\n",
    "data.split(n_folds=3)\n",
    "# 试一把SVD矩阵分解\n",
    "algo = KNNWithMeans()\n",
    "# 在数据集上测试一下效果\n",
    "perf = evaluate(algo, data, measures=['RMSE', 'MAE'])\n",
    "#输出结果\n",
    "print_perf(perf)"
   ]
  },
  {
   "cell_type": "code",
   "execution_count": 3,
   "metadata": {},
   "outputs": [
    {
     "data": {
      "text/plain": [
       "('709', '125', 4.0, '879847730')"
      ]
     },
     "execution_count": 3,
     "metadata": {},
     "output_type": "execute_result"
    }
   ],
   "source": [
    "data.raw_ratings[1]"
   ]
  },
  {
   "cell_type": "code",
   "execution_count": 4,
   "metadata": {},
   "outputs": [
    {
     "name": "stderr",
     "output_type": "stream",
     "text": [
      "E:\\D\\Anaconda\\lib\\site-packages\\surprise\\prediction_algorithms\\algo_base.py:51: UserWarning: train() is deprecated. Use fit() instead\n",
      "  warnings.warn('train() is deprecated. Use fit() instead', UserWarning)\n"
     ]
    },
    {
     "name": "stdout",
     "output_type": "stream",
     "text": [
      "Estimating biases using als...\n",
      "Computing the pearson_baseline similarity matrix...\n",
      "Done computing similarity matrix.\n"
     ]
    },
    {
     "data": {
      "text/plain": [
       "<surprise.prediction_algorithms.knns.KNNBaseline at 0x2582fb37c50>"
      ]
     },
     "execution_count": 4,
     "metadata": {},
     "output_type": "execute_result"
    }
   ],
   "source": [
    "\"\"\"\n",
    "以下的程序段告诉大家如何在协同过滤算法建模以后，根据一个item取回相似度最高的item，主要是用到algo.get_neighbors()这个函数\n",
    "\"\"\"\n",
    "\n",
    "from __future__ import (absolute_import, division, print_function,\n",
    "                        unicode_literals)\n",
    "import os\n",
    "import io\n",
    "\n",
    "from surprise import KNNBaseline\n",
    "from surprise import Dataset\n",
    "\n",
    "\n",
    "def read_item_names():\n",
    "    \"\"\"\n",
    "    获取电影名到电影id 和 电影id到电影名的映射\n",
    "    \"\"\"\n",
    "\n",
    "    file_name = (os.path.expanduser('~') +\n",
    "                 '/.surprise_data/ml-100k/ml-100k/u.item')\n",
    "    rid_to_name = {}\n",
    "    name_to_rid = {}\n",
    "    with io.open(file_name, 'r', encoding='ISO-8859-1') as f:\n",
    "        for line in f:\n",
    "            line = line.split('|')\n",
    "            rid_to_name[line[0]] = line[1]\n",
    "            name_to_rid[line[1]] = line[0]\n",
    "\n",
    "    return rid_to_name, name_to_rid\n",
    "\n",
    "\n",
    "# 首先，用算法计算相互间的相似度\n",
    "data = Dataset.load_builtin('ml-100k')\n",
    "trainset = data.build_full_trainset()\n",
    "sim_options = {'name': 'pearson_baseline', 'user_based': False}\n",
    "algo = KNNBaseline(sim_options=sim_options)\n",
    "algo.train(trainset)"
   ]
  },
  {
   "cell_type": "code",
   "execution_count": 5,
   "metadata": {
    "collapsed": true
   },
   "outputs": [],
   "source": [
    "# 获取电影名到电影id 和 电影id到电影名的映射\n",
    "rid_to_name, name_to_rid = read_item_names()"
   ]
  },
  {
   "cell_type": "code",
   "execution_count": 6,
   "metadata": {},
   "outputs": [
    {
     "data": {
      "text/plain": [
       "'1'"
      ]
     },
     "execution_count": 6,
     "metadata": {},
     "output_type": "execute_result"
    }
   ],
   "source": [
    "# 拿出来Toy Story这部电影对应的item id\n",
    "toy_story_raw_id = name_to_rid['Toy Story (1995)']\n",
    "toy_story_raw_id"
   ]
  },
  {
   "cell_type": "code",
   "execution_count": 7,
   "metadata": {},
   "outputs": [
    {
     "data": {
      "text/plain": [
       "24"
      ]
     },
     "execution_count": 7,
     "metadata": {},
     "output_type": "execute_result"
    }
   ],
   "source": [
    "toy_story_inner_id = algo.trainset.to_inner_iid(toy_story_raw_id)\n",
    "toy_story_inner_id"
   ]
  },
  {
   "cell_type": "code",
   "execution_count": 8,
   "metadata": {},
   "outputs": [
    {
     "data": {
      "text/plain": [
       "[433, 101, 302, 309, 971, 95, 26, 561, 816, 347]"
      ]
     },
     "execution_count": 8,
     "metadata": {},
     "output_type": "execute_result"
    }
   ],
   "source": [
    "# 找到最近的10个邻居\n",
    "toy_story_neighbors = algo.get_neighbors(toy_story_inner_id, k=10)\n",
    "toy_story_neighbors"
   ]
  },
  {
   "cell_type": "code",
   "execution_count": 9,
   "metadata": {},
   "outputs": [
    {
     "name": "stdout",
     "output_type": "stream",
     "text": [
      "\n",
      "The 10 nearest neighbors of Toy Story are:\n",
      "Beauty and the Beast (1991)\n",
      "Raiders of the Lost Ark (1981)\n",
      "That Thing You Do! (1996)\n",
      "Lion King, The (1994)\n",
      "Craft, The (1996)\n",
      "Liar Liar (1997)\n",
      "Aladdin (1992)\n",
      "Cool Hand Luke (1967)\n",
      "Winnie the Pooh and the Blustery Day (1968)\n",
      "Indiana Jones and the Last Crusade (1989)\n"
     ]
    }
   ],
   "source": [
    "# 从近邻的id映射回电影名称\n",
    "toy_story_neighbors = (algo.trainset.to_raw_iid(inner_id)\n",
    "                       for inner_id in toy_story_neighbors)\n",
    "toy_story_neighbors = (rid_to_name[rid]\n",
    "                       for rid in toy_story_neighbors)\n",
    "\n",
    "print()\n",
    "print('The 10 nearest neighbors of Toy Story are:')\n",
    "for movie in toy_story_neighbors:\n",
    "    print(movie)"
   ]
  },
  {
   "cell_type": "code",
   "execution_count": 10,
   "metadata": {},
   "outputs": [
    {
     "name": "stdout",
     "output_type": "stream",
     "text": [
      "\n",
      "The 10 nearest neighbors of Toy Story are:\n",
      "Beauty and the Beast (1991)\n",
      "Raiders of the Lost Ark (1981)\n",
      "That Thing You Do! (1996)\n",
      "Lion King, The (1994)\n",
      "Craft, The (1996)\n",
      "Liar Liar (1997)\n",
      "Aladdin (1992)\n",
      "Cool Hand Luke (1967)\n",
      "Winnie the Pooh and the Blustery Day (1968)\n",
      "Indiana Jones and the Last Crusade (1989)\n"
     ]
    }
   ],
   "source": [
    "# 拿出来Toy Story这部电影对应的item id\n",
    "toy_story_raw_id = name_to_rid['Toy Story (1995)']\n",
    "toy_story_inner_id = algo.trainset.to_inner_iid(toy_story_raw_id)\n",
    "\n",
    "# 找到最近的10个邻居\n",
    "toy_story_neighbors = algo.get_neighbors(toy_story_inner_id, k=10)\n",
    "\n",
    "# 从近邻的id映射回电影名称\n",
    "toy_story_neighbors = (algo.trainset.to_raw_iid(inner_id)\n",
    "                       for inner_id in toy_story_neighbors)\n",
    "toy_story_neighbors = (rid_to_name[rid]\n",
    "                       for rid in toy_story_neighbors)\n",
    "\n",
    "print()\n",
    "print('The 10 nearest neighbors of Toy Story are:')\n",
    "for movie in toy_story_neighbors:\n",
    "    print(movie)"
   ]
  },
  {
   "cell_type": "markdown",
   "metadata": {},
   "source": [
    "#### 1.2 音乐预测的例子"
   ]
  },
  {
   "cell_type": "code",
   "execution_count": 11,
   "metadata": {},
   "outputs": [
    {
     "name": "stdout",
     "output_type": "stream",
     "text": [
      "加载歌单id到歌单名的映射字典完成...\n",
      "加载歌单名到歌单id的映射字典完成...\n",
      "构建数据集...\n"
     ]
    }
   ],
   "source": [
    "from __future__ import (absolute_import, division, print_function, unicode_literals)\n",
    "import os\n",
    "import io\n",
    "\n",
    "from surprise import KNNBaseline, Reader\n",
    "from surprise import Dataset\n",
    "\n",
    "import pickle as pickle\n",
    "# 重建歌单id到歌单名的映射字典\n",
    "id_name_dic = pickle.load(open(\"data/popular_playlist.pkl\",\"rb\"))\n",
    "print(\"加载歌单id到歌单名的映射字典完成...\")\n",
    "# 重建歌单名到歌单id的映射字典\n",
    "name_id_dic = {}\n",
    "for playlist_id in id_name_dic:\n",
    "    name_id_dic[id_name_dic[playlist_id]] = playlist_id\n",
    "print(\"加载歌单名到歌单id的映射字典完成...\")\n",
    "\n",
    "\n",
    "file_path = os.path.expanduser('data/popular_music_suprise_format.txt')\n",
    "# 指定文件格式\n",
    "reader = Reader(line_format='user item rating timestamp', sep=',')\n",
    "# 从文件读取数据\n",
    "music_data = Dataset.load_from_file(file_path, reader=reader)\n",
    "# 计算歌曲和歌曲之间的相似度\n",
    "print(\"构建数据集...\")\n",
    "trainset = music_data.build_full_trainset()\n",
    "#sim_options = {'name': 'pearson_baseline', 'user_based': False}"
   ]
  },
  {
   "cell_type": "code",
   "execution_count": 12,
   "metadata": {},
   "outputs": [
    {
     "data": {
      "text/plain": [
       "'69545352'"
      ]
     },
     "execution_count": 12,
     "metadata": {},
     "output_type": "execute_result"
    }
   ],
   "source": [
    "list(id_name_dic.keys())[2]"
   ]
  },
  {
   "cell_type": "code",
   "execution_count": 13,
   "metadata": {},
   "outputs": [
    {
     "name": "stdout",
     "output_type": "stream",
     "text": [
      "五月——奔跑吧，青春\n"
     ]
    }
   ],
   "source": [
    "print(id_name_dic[list(id_name_dic.keys())[2]])"
   ]
  },
  {
   "cell_type": "code",
   "execution_count": 14,
   "metadata": {},
   "outputs": [
    {
     "data": {
      "text/plain": [
       "130573"
      ]
     },
     "execution_count": 14,
     "metadata": {},
     "output_type": "execute_result"
    }
   ],
   "source": [
    "trainset.n_items"
   ]
  },
  {
   "cell_type": "code",
   "execution_count": 15,
   "metadata": {},
   "outputs": [
    {
     "data": {
      "text/plain": [
       "3771"
      ]
     },
     "execution_count": 15,
     "metadata": {},
     "output_type": "execute_result"
    }
   ],
   "source": [
    "trainset.n_users"
   ]
  },
  {
   "cell_type": "markdown",
   "metadata": {},
   "source": [
    "#### 1.2.1 模板之查找最近的user(在这里是歌单)"
   ]
  },
  {
   "cell_type": "code",
   "execution_count": 16,
   "metadata": {},
   "outputs": [
    {
     "name": "stdout",
     "output_type": "stream",
     "text": [
      "开始训练模型...\n",
      "Estimating biases using als...\n"
     ]
    },
    {
     "name": "stderr",
     "output_type": "stream",
     "text": [
      "E:\\D\\Anaconda\\lib\\site-packages\\surprise\\prediction_algorithms\\algo_base.py:51: UserWarning: train() is deprecated. Use fit() instead\n",
      "  warnings.warn('train() is deprecated. Use fit() instead', UserWarning)\n"
     ]
    },
    {
     "name": "stdout",
     "output_type": "stream",
     "text": [
      "Computing the msd similarity matrix...\n",
      "Done computing similarity matrix.\n",
      "歌单名称 中年——给爸妈广场必备\n",
      "歌单id 72048599\n",
      "内部id 39\n",
      "\n",
      "和歌单 《 中年——给爸妈广场必备 》 最接近的10个歌单为：\n",
      "\n",
      "奥迪A8车载 DJ 第一季 77\n",
      "适合男生唱的100首歌 96\n",
      "程一电台音乐歌单-华语 110\n",
      "KTV麦霸练习之催泪 111\n",
      "70后经典歌集 149\n",
      "歌唱祖国-走向复兴 162\n",
      "漫无止境的夏天 171\n",
      "奔跑吧『节目bgm』 172\n",
      "那些翻唱日语的华语歌 188\n",
      "华语怀旧|||那些年爸妈听的歌 229\n"
     ]
    }
   ],
   "source": [
    "print(\"开始训练模型...\")\n",
    "#sim_options = {'user_based': False}\n",
    "#algo = KNNBaseline(sim_options=sim_options)\n",
    "algo = KNNBaseline()\n",
    "algo.train(trainset)\n",
    "\n",
    "current_playlist = list(name_id_dic.keys())[39]\n",
    "print(\"歌单名称\", current_playlist)\n",
    "\n",
    "# 取出近邻\n",
    "# 映射名字到id\n",
    "playlist_id = name_id_dic[current_playlist]\n",
    "print(\"歌单id\", playlist_id)\n",
    "# 取出来对应的内部user id => to_inner_uid\n",
    "playlist_inner_id = algo.trainset.to_inner_uid(playlist_id)\n",
    "print(\"内部id\", playlist_inner_id)\n",
    "\n",
    "playlist_neighbors = algo.get_neighbors(playlist_inner_id, k=10)\n",
    "\n",
    "# 把歌曲id转成歌曲名字\n",
    "# to_raw_uid映射回去\n",
    "playlist_neighbors = (algo.trainset.to_raw_uid(inner_id)\n",
    "                       for inner_id in playlist_neighbors)\n",
    "playlist_neighbors = (id_name_dic[playlist_id]\n",
    "                       for playlist_id in playlist_neighbors)\n",
    "\n",
    "print()\n",
    "print(\"和歌单 《\", current_playlist, \"》 最接近的10个歌单为：\\n\")\n",
    "for playlist in playlist_neighbors:\n",
    "    print(playlist, algo.trainset.to_inner_uid(name_id_dic[playlist]))"
   ]
  },
  {
   "cell_type": "markdown",
   "metadata": {},
   "source": [
    "#### 1.2.2 模板之针对用户进行预测"
   ]
  },
  {
   "cell_type": "code",
   "execution_count": 17,
   "metadata": {},
   "outputs": [
    {
     "name": "stdout",
     "output_type": "stream",
     "text": [
      "加载歌曲id到歌曲名的映射字典完成...\n",
      "加载歌曲名到歌曲id的映射字典完成...\n"
     ]
    }
   ],
   "source": [
    "import pickle as pickle\n",
    "# 重建歌曲id到歌曲名的映射字典\n",
    "song_id_name_dic = pickle.load(open(\"data/popular_song.pkl\",\"rb\"))\n",
    "print(\"加载歌曲id到歌曲名的映射字典完成...\")\n",
    "# 重建歌曲名到歌曲id的映射字典\n",
    "song_name_id_dic = {}\n",
    "for song_id in song_id_name_dic:\n",
    "    song_name_id_dic[song_id_name_dic[song_id]] = song_id\n",
    "print(\"加载歌曲名到歌曲id的映射字典完成...\")"
   ]
  },
  {
   "cell_type": "code",
   "execution_count": 18,
   "metadata": {},
   "outputs": [
    {
     "name": "stdout",
     "output_type": "stream",
     "text": [
      "user: 4          item: 361        r_ui = 1.00   est = 5.00   {'was_impossible': False} 家\t许巍\n",
      "user: 4          item: 362        r_ui = 1.00   est = 5.00   {'was_impossible': False} 老街\t李荣浩\n",
      "user: 4          item: 363        r_ui = 1.00   est = 5.00   {'was_impossible': False} 滴答\t侃侃\n",
      "user: 4          item: 364        r_ui = 1.00   est = 5.00   {'was_impossible': False} 彩虹\t周杰伦\n",
      "user: 4          item: 365        r_ui = 1.00   est = 5.00   {'was_impossible': False} 米店\t张玮玮和郭龙\n",
      "user: 4          item: 366        r_ui = 1.00   est = 5.00   {'was_impossible': False} 情人\tBeyond\n",
      "user: 4          item: 367        r_ui = 1.00   est = 5.00   {'was_impossible': False} 喜欢你\tBeyond\n",
      "user: 4          item: 220        r_ui = 1.00   est = 5.00   {'was_impossible': False} 灰姑娘\t郑钧\n",
      "user: 4          item: 235        r_ui = 1.00   est = 5.00   {'was_impossible': False} 安和桥\t宋冬野\n",
      "user: 4          item: 240        r_ui = 1.00   est = 5.00   {'was_impossible': False} 去大理\t郝云\n",
      "user: 4          item: 368        r_ui = 1.00   est = 5.00   {'was_impossible': False} 好久不见\t陈奕迅\n",
      "user: 4          item: 369        r_ui = 1.00   est = 5.00   {'was_impossible': False} 那些花儿\t朴树\n",
      "user: 4          item: 50         r_ui = 1.00   est = 5.00   {'was_impossible': False} 当你老了\t赵照\n",
      "user: 4          item: 244        r_ui = 1.00   est = 5.00   {'was_impossible': False} 且听风吟\t朴树\n",
      "user: 4          item: 264        r_ui = 1.00   est = 5.00   {'was_impossible': False} 同桌的你\t老狼\n",
      "user: 4          item: 297        r_ui = 1.00   est = 5.00   {'was_impossible': False} 斑马，斑马\t宋冬野\n",
      "user: 4          item: 370        r_ui = 1.00   est = 5.00   {'was_impossible': False} 花房姑娘(翻唱崔健)\t花粥\n",
      "user: 4          item: 339        r_ui = 1.00   est = 5.00   {'was_impossible': False} 北方的女王(demo)\t尧十三\n",
      "user: 4          item: 371        r_ui = 1.00   est = 5.00   {'was_impossible': False} 外面的世界\t莫文蔚\n",
      "user: 4          item: 372        r_ui = 1.00   est = 5.00   {'was_impossible': False} 我真的受伤了\t王菀之\n",
      "user: 4          item: 373        r_ui = 1.00   est = 5.00   {'was_impossible': False} 再见吧喵小姐\t王晓天\n",
      "user: 4          item: 374        r_ui = 1.00   est = 5.00   {'was_impossible': False} 你知道我在等你吗\t张洪量\n"
     ]
    }
   ],
   "source": [
    "#内部编码的4号用户\n",
    "user_inner_id = 4\n",
    "user_rating = trainset.ur[user_inner_id]\n",
    "items = map(lambda x:x[0], user_rating)\n",
    "for song in items:\n",
    "    print(algo.predict(user_inner_id, song, r_ui=1), song_id_name_dic[algo.trainset.to_raw_iid(song)])"
   ]
  },
  {
   "cell_type": "markdown",
   "metadata": {},
   "source": [
    "### 2.用矩阵分解进行预测"
   ]
  },
  {
   "cell_type": "code",
   "execution_count": 19,
   "metadata": {
    "scrolled": true
   },
   "outputs": [
    {
     "name": "stderr",
     "output_type": "stream",
     "text": [
      "E:\\D\\Anaconda\\lib\\site-packages\\surprise\\prediction_algorithms\\algo_base.py:51: UserWarning: train() is deprecated. Use fit() instead\n",
      "  warnings.warn('train() is deprecated. Use fit() instead', UserWarning)\n"
     ]
    },
    {
     "data": {
      "text/plain": [
       "<surprise.prediction_algorithms.matrix_factorization.NMF at 0x25841d1b0f0>"
      ]
     },
     "execution_count": 19,
     "metadata": {},
     "output_type": "execute_result"
    }
   ],
   "source": [
    "### 使用NMF\n",
    "from surprise import NMF, evaluate\n",
    "from surprise import Dataset\n",
    "\n",
    "file_path = os.path.expanduser('data/popular_music_suprise_format.txt')\n",
    "# 指定文件格式\n",
    "reader = Reader(line_format='user item rating timestamp', sep=',')\n",
    "# 从文件读取数据\n",
    "music_data = Dataset.load_from_file(file_path, reader=reader)\n",
    "# 构建数据集和建模\n",
    "algo = NMF()\n",
    "trainset = music_data.build_full_trainset()\n",
    "algo.train(trainset)"
   ]
  },
  {
   "cell_type": "code",
   "execution_count": 20,
   "metadata": {},
   "outputs": [
    {
     "name": "stdout",
     "output_type": "stream",
     "text": [
      "user: 69758545   item: 167751     r_ui = 1.00   est = 5.00   {'was_impossible': False} 家\t许巍\n",
      "user: 69758545   item: 133998     r_ui = 1.00   est = 5.00   {'was_impossible': False} 老街\t李荣浩\n",
      "user: 69758545   item: 25638325   r_ui = 1.00   est = 5.00   {'was_impossible': False} 滴答\t侃侃\n",
      "user: 69758545   item: 185809     r_ui = 1.00   est = 5.00   {'was_impossible': False} 彩虹\t周杰伦\n",
      "user: 69758545   item: 26494698   r_ui = 1.00   est = 5.00   {'was_impossible': False} 米店\t张玮玮和郭龙\n",
      "user: 69758545   item: 347355     r_ui = 1.00   est = 5.00   {'was_impossible': False} 情人\tBeyond\n",
      "user: 69758545   item: 346073     r_ui = 1.00   est = 5.00   {'was_impossible': False} 喜欢你\tBeyond\n",
      "user: 69758545   item: 186842     r_ui = 1.00   est = 5.00   {'was_impossible': False} 灰姑娘\t郑钧\n",
      "user: 69758545   item: 27646205   r_ui = 1.00   est = 5.00   {'was_impossible': False} 安和桥\t宋冬野\n",
      "user: 69758545   item: 28977819   r_ui = 1.00   est = 5.00   {'was_impossible': False} 去大理\t郝云\n",
      "user: 69758545   item: 65538      r_ui = 1.00   est = 5.00   {'was_impossible': False} 好久不见\t陈奕迅\n",
      "user: 69758545   item: 139377     r_ui = 1.00   est = 5.00   {'was_impossible': False} 那些花儿\t朴树\n",
      "user: 69758545   item: 26090100   r_ui = 1.00   est = 5.00   {'was_impossible': False} 当你老了\t赵照\n",
      "user: 69758545   item: 139359     r_ui = 1.00   est = 5.00   {'was_impossible': False} 且听风吟\t朴树\n",
      "user: 69758545   item: 5281327    r_ui = 1.00   est = 5.00   {'was_impossible': False} 同桌的你\t老狼\n",
      "user: 69758545   item: 27646199   r_ui = 1.00   est = 5.00   {'was_impossible': False} 斑马，斑马\t宋冬野\n",
      "user: 69758545   item: 27514451   r_ui = 1.00   est = 5.00   {'was_impossible': False} 花房姑娘(翻唱崔健)\t花粥\n",
      "user: 69758545   item: 28381611   r_ui = 1.00   est = 5.00   {'was_impossible': False} 北方的女王(demo)\t尧十三\n",
      "user: 69758545   item: 276904     r_ui = 1.00   est = 5.00   {'was_impossible': False} 外面的世界\t莫文蔚\n",
      "user: 69758545   item: 297711     r_ui = 1.00   est = 5.00   {'was_impossible': False} 我真的受伤了\t王菀之\n",
      "user: 69758545   item: 28191648   r_ui = 1.00   est = 4.56   {'was_impossible': False} 再见吧喵小姐\t王晓天\n",
      "user: 69758545   item: 191791     r_ui = 1.00   est = 4.97   {'was_impossible': False} 你知道我在等你吗\t张洪量\n"
     ]
    }
   ],
   "source": [
    "user_inner_id = 4\n",
    "user_rating = trainset.ur[user_inner_id]\n",
    "items = map(lambda x:x[0], user_rating)\n",
    "for song in items:\n",
    "    print(algo.predict(algo.trainset.to_raw_uid(user_inner_id), algo.trainset.to_raw_iid(song), r_ui=1), song_id_name_dic[algo.trainset.to_raw_iid(song)])"
   ]
  },
  {
   "cell_type": "markdown",
   "metadata": {},
   "source": [
    "## 模型存储"
   ]
  },
  {
   "cell_type": "code",
   "execution_count": 21,
   "metadata": {
    "collapsed": true
   },
   "outputs": [],
   "source": [
    "import surprise\n",
    "surprise.dump.dump('data/recommendation.model', algo=algo)\n",
    "# 可以用下面的方式载入\n",
    "algo = surprise.dump.load('data/recommendation.model')"
   ]
  },
  {
   "cell_type": "markdown",
   "metadata": {},
   "source": [
    "## 不同的推荐系统算法评估"
   ]
  },
  {
   "cell_type": "markdown",
   "metadata": {},
   "source": [
    "### 首先载入数据"
   ]
  },
  {
   "cell_type": "code",
   "execution_count": 22,
   "metadata": {
    "collapsed": true
   },
   "outputs": [],
   "source": [
    "import os\n",
    "from surprise import Reader, Dataset\n",
    "# 指定文件路径\n",
    "file_path = os.path.expanduser('data/popular_music_suprise_format.txt')\n",
    "# 指定文件格式\n",
    "reader = Reader(line_format='user item rating timestamp', sep=',')\n",
    "# 从文件读取数据\n",
    "music_data = Dataset.load_from_file(file_path, reader=reader)\n",
    "# 分成5折\n",
    "music_data.split(n_folds=5)"
   ]
  },
  {
   "cell_type": "code",
   "execution_count": 23,
   "metadata": {},
   "outputs": [
    {
     "data": {
      "text/plain": [
       "<surprise.dataset.DatasetAutoFolds at 0x2585aafa470>"
      ]
     },
     "execution_count": 23,
     "metadata": {},
     "output_type": "execute_result"
    }
   ],
   "source": [
    "music_data"
   ]
  },
  {
   "cell_type": "code",
   "execution_count": 24,
   "metadata": {},
   "outputs": [
    {
     "data": {
      "text/plain": [
       "[('31708517', '32019128', 3.0, '1300000'),\n",
       " ('87872451', '36190599', 7.0, '1300000'),\n",
       " ('108717850', '4878308', 11.0, '1300000'),\n",
       " ('325606188', '30953301', 11.0, '1300000'),\n",
       " ('450038411', '31062979', 12.0, '1300000'),\n",
       " ('384483907', '368760', 11.0, '1300000'),\n",
       " ('10032711', '5280086', 9.0, '1300000'),\n",
       " ('331104108', '184544', 11.0, '1300000'),\n",
       " ('38127319', '186443', 9.0, '1300000'),\n",
       " ('157290336', '416385492', 10.0, '1300000'),\n",
       " ('365123743', '34144434', 12.0, '1300000'),\n",
       " ('366850364', '82525', 9.0, '1300000'),\n",
       " ('134325190', '28830157', 12.0, '1300000'),\n",
       " ('50271609', '210842', 11.0, '1300000'),\n",
       " ('155013989', '28853096', 12.0, '1300000'),\n",
       " ('596346864', '419077073', 11.0, '1300000'),\n",
       " ('56664203', '29724292', 11.0, '1300000'),\n",
       " ('135682470', '26241459', 7.0, '1300000'),\n",
       " ('48742458', '106368', 12.0, '1300000'),\n",
       " ('68186334', '334306', 3.0, '1300000')]"
      ]
     },
     "execution_count": 24,
     "metadata": {},
     "output_type": "execute_result"
    }
   ],
   "source": [
    "music_data.raw_ratings[:20]"
   ]
  },
  {
   "cell_type": "code",
   "execution_count": 25,
   "metadata": {},
   "outputs": [
    {
     "name": "stderr",
     "output_type": "stream",
     "text": [
      "E:\\D\\Anaconda\\lib\\site-packages\\surprise\\evaluate.py:66: UserWarning: The evaluate() method is deprecated. Please use model_selection.cross_validate() instead.\n",
      "  'model_selection.cross_validate() instead.', UserWarning)\n"
     ]
    },
    {
     "name": "stdout",
     "output_type": "stream",
     "text": [
      "Evaluating RMSE, MAE of algorithm NormalPredictor.\n",
      "\n",
      "------------\n",
      "Fold 1\n",
      "RMSE: 5.4390\n",
      "MAE:  4.9682\n",
      "------------\n",
      "Fold 2\n",
      "RMSE: 5.4478\n",
      "MAE:  4.9763\n",
      "------------\n",
      "Fold 3\n",
      "RMSE: 5.4506\n",
      "MAE:  4.9813\n",
      "------------\n",
      "Fold 4\n",
      "RMSE: 5.4381\n",
      "MAE:  4.9687\n",
      "------------\n",
      "Fold 5\n",
      "RMSE: 5.4566\n",
      "MAE:  4.9881\n",
      "------------\n",
      "------------\n",
      "Mean RMSE: 5.4464\n",
      "Mean MAE : 4.9765\n",
      "------------\n",
      "------------\n"
     ]
    },
    {
     "name": "stderr",
     "output_type": "stream",
     "text": [
      "E:\\D\\Anaconda\\lib\\site-packages\\surprise\\dataset.py:193: UserWarning: Using data.split() or using load_from_folds() without using a CV iterator is now deprecated. \n",
      "  UserWarning)\n"
     ]
    }
   ],
   "source": [
    "### 使用NormalPredictor\n",
    "from surprise import NormalPredictor, evaluate\n",
    "algo = NormalPredictor()\n",
    "perf = evaluate(algo, music_data, measures=['RMSE', 'MAE'])"
   ]
  },
  {
   "cell_type": "code",
   "execution_count": 26,
   "metadata": {},
   "outputs": [
    {
     "name": "stderr",
     "output_type": "stream",
     "text": [
      "E:\\D\\Anaconda\\lib\\site-packages\\surprise\\evaluate.py:66: UserWarning: The evaluate() method is deprecated. Please use model_selection.cross_validate() instead.\n",
      "  'model_selection.cross_validate() instead.', UserWarning)\n",
      "E:\\D\\Anaconda\\lib\\site-packages\\surprise\\dataset.py:193: UserWarning: Using data.split() or using load_from_folds() without using a CV iterator is now deprecated. \n",
      "  UserWarning)\n"
     ]
    },
    {
     "name": "stdout",
     "output_type": "stream",
     "text": [
      "Evaluating RMSE, MAE of algorithm BaselineOnly.\n",
      "\n",
      "------------\n",
      "Fold 1\n",
      "Estimating biases using als...\n",
      "RMSE: 5.3604\n",
      "MAE:  4.8951\n",
      "------------\n",
      "Fold 2\n",
      "Estimating biases using als...\n",
      "RMSE: 5.3671\n",
      "MAE:  4.9019\n",
      "------------\n",
      "Fold 3\n",
      "Estimating biases using als...\n",
      "RMSE: 5.3700\n",
      "MAE:  4.9066\n",
      "------------\n",
      "Fold 4\n",
      "Estimating biases using als...\n",
      "RMSE: 5.3605\n",
      "MAE:  4.8972\n",
      "------------\n",
      "Fold 5\n",
      "Estimating biases using als...\n",
      "RMSE: 5.3730\n",
      "MAE:  4.9100\n",
      "------------\n",
      "------------\n",
      "Mean RMSE: 5.3662\n",
      "Mean MAE : 4.9022\n",
      "------------\n",
      "------------\n"
     ]
    }
   ],
   "source": [
    "### 使用BaselineOnly\n",
    "from surprise import BaselineOnly, evaluate\n",
    "algo = BaselineOnly()\n",
    "perf = evaluate(algo, music_data, measures=['RMSE', 'MAE'])"
   ]
  },
  {
   "cell_type": "code",
   "execution_count": 27,
   "metadata": {},
   "outputs": [
    {
     "name": "stderr",
     "output_type": "stream",
     "text": [
      "E:\\D\\Anaconda\\lib\\site-packages\\surprise\\evaluate.py:66: UserWarning: The evaluate() method is deprecated. Please use model_selection.cross_validate() instead.\n",
      "  'model_selection.cross_validate() instead.', UserWarning)\n"
     ]
    },
    {
     "name": "stdout",
     "output_type": "stream",
     "text": [
      "Evaluating RMSE, MAE of algorithm KNNBasic.\n",
      "\n",
      "------------\n",
      "Fold 1\n",
      "Computing the msd similarity matrix...\n",
      "Done computing similarity matrix.\n",
      "RMSE: 5.3596\n",
      "MAE:  4.8894\n",
      "------------\n",
      "Fold 2\n",
      "Computing the msd similarity matrix...\n",
      "Done computing similarity matrix.\n",
      "RMSE: 5.3663\n",
      "MAE:  4.8961\n",
      "------------\n",
      "Fold 3\n",
      "Computing the msd similarity matrix...\n",
      "Done computing similarity matrix.\n",
      "RMSE: 5.3692\n",
      "MAE:  4.9011\n",
      "------------\n",
      "Fold 4\n",
      "Computing the msd similarity matrix...\n",
      "Done computing similarity matrix.\n",
      "RMSE: 5.3593\n",
      "MAE:  4.8904\n",
      "------------\n",
      "Fold 5\n",
      "Computing the msd similarity matrix...\n",
      "Done computing similarity matrix.\n",
      "RMSE: 5.3723\n",
      "MAE:  4.9051\n",
      "------------\n",
      "------------\n",
      "Mean RMSE: 5.3653\n",
      "Mean MAE : 4.8964\n",
      "------------\n",
      "------------\n"
     ]
    },
    {
     "name": "stderr",
     "output_type": "stream",
     "text": [
      "E:\\D\\Anaconda\\lib\\site-packages\\surprise\\dataset.py:193: UserWarning: Using data.split() or using load_from_folds() without using a CV iterator is now deprecated. \n",
      "  UserWarning)\n"
     ]
    }
   ],
   "source": [
    "### 使用基础版协同过滤\n",
    "from surprise import KNNBasic, evaluate\n",
    "algo = KNNBasic()\n",
    "perf = evaluate(algo, music_data, measures=['RMSE', 'MAE'])"
   ]
  },
  {
   "cell_type": "code",
   "execution_count": 28,
   "metadata": {},
   "outputs": [
    {
     "name": "stderr",
     "output_type": "stream",
     "text": [
      "E:\\D\\Anaconda\\lib\\site-packages\\surprise\\evaluate.py:66: UserWarning: The evaluate() method is deprecated. Please use model_selection.cross_validate() instead.\n",
      "  'model_selection.cross_validate() instead.', UserWarning)\n",
      "E:\\D\\Anaconda\\lib\\site-packages\\surprise\\dataset.py:193: UserWarning: Using data.split() or using load_from_folds() without using a CV iterator is now deprecated. \n",
      "  UserWarning)\n"
     ]
    },
    {
     "name": "stdout",
     "output_type": "stream",
     "text": [
      "Evaluating RMSE, MAE of algorithm KNNWithMeans.\n",
      "\n",
      "------------\n",
      "Fold 1\n",
      "Computing the msd similarity matrix...\n",
      "Done computing similarity matrix.\n",
      "RMSE: 5.3685\n",
      "MAE:  4.9148\n",
      "------------\n",
      "Fold 2\n",
      "Computing the msd similarity matrix...\n",
      "Done computing similarity matrix.\n",
      "RMSE: 5.3756\n",
      "MAE:  4.9218\n",
      "------------\n",
      "Fold 3\n",
      "Computing the msd similarity matrix...\n",
      "Done computing similarity matrix.\n",
      "RMSE: 5.3782\n",
      "MAE:  4.9268\n",
      "------------\n",
      "Fold 4\n",
      "Computing the msd similarity matrix...\n",
      "Done computing similarity matrix.\n",
      "RMSE: 5.3687\n",
      "MAE:  4.9164\n",
      "------------\n",
      "Fold 5\n",
      "Computing the msd similarity matrix...\n",
      "Done computing similarity matrix.\n",
      "RMSE: 5.3810\n",
      "MAE:  4.9297\n",
      "------------\n",
      "------------\n",
      "Mean RMSE: 5.3744\n",
      "Mean MAE : 4.9219\n",
      "------------\n",
      "------------\n"
     ]
    }
   ],
   "source": [
    "### 使用均值协同过滤\n",
    "from surprise import KNNWithMeans, evaluate\n",
    "algo = KNNWithMeans()\n",
    "perf = evaluate(algo, music_data, measures=['RMSE', 'MAE'])"
   ]
  },
  {
   "cell_type": "code",
   "execution_count": 29,
   "metadata": {},
   "outputs": [
    {
     "name": "stderr",
     "output_type": "stream",
     "text": [
      "E:\\D\\Anaconda\\lib\\site-packages\\surprise\\evaluate.py:66: UserWarning: The evaluate() method is deprecated. Please use model_selection.cross_validate() instead.\n",
      "  'model_selection.cross_validate() instead.', UserWarning)\n",
      "E:\\D\\Anaconda\\lib\\site-packages\\surprise\\dataset.py:193: UserWarning: Using data.split() or using load_from_folds() without using a CV iterator is now deprecated. \n",
      "  UserWarning)\n"
     ]
    },
    {
     "name": "stdout",
     "output_type": "stream",
     "text": [
      "Evaluating RMSE, MAE of algorithm KNNBaseline.\n",
      "\n",
      "------------\n",
      "Fold 1\n",
      "Estimating biases using als...\n",
      "Computing the msd similarity matrix...\n",
      "Done computing similarity matrix.\n",
      "RMSE: 5.3614\n",
      "MAE:  4.8965\n",
      "------------\n",
      "Fold 2\n",
      "Estimating biases using als...\n",
      "Computing the msd similarity matrix...\n",
      "Done computing similarity matrix.\n",
      "RMSE: 5.3683\n",
      "MAE:  4.9037\n",
      "------------\n",
      "Fold 3\n",
      "Estimating biases using als...\n",
      "Computing the msd similarity matrix...\n",
      "Done computing similarity matrix.\n",
      "RMSE: 5.3710\n",
      "MAE:  4.9081\n",
      "------------\n",
      "Fold 4\n",
      "Estimating biases using als...\n",
      "Computing the msd similarity matrix...\n",
      "Done computing similarity matrix.\n",
      "RMSE: 5.3616\n",
      "MAE:  4.8986\n",
      "------------\n",
      "Fold 5\n",
      "Estimating biases using als...\n",
      "Computing the msd similarity matrix...\n",
      "Done computing similarity matrix.\n",
      "RMSE: 5.3737\n",
      "MAE:  4.9111\n",
      "------------\n",
      "------------\n",
      "Mean RMSE: 5.3672\n",
      "Mean MAE : 4.9036\n",
      "------------\n",
      "------------\n"
     ]
    }
   ],
   "source": [
    "### 使用协同过滤baseline\n",
    "from surprise import KNNBaseline, evaluate\n",
    "algo = KNNBaseline()\n",
    "perf = evaluate(algo, music_data, measures=['RMSE', 'MAE'])"
   ]
  },
  {
   "cell_type": "code",
   "execution_count": 30,
   "metadata": {},
   "outputs": [
    {
     "name": "stderr",
     "output_type": "stream",
     "text": [
      "E:\\D\\Anaconda\\lib\\site-packages\\surprise\\evaluate.py:66: UserWarning: The evaluate() method is deprecated. Please use model_selection.cross_validate() instead.\n",
      "  'model_selection.cross_validate() instead.', UserWarning)\n",
      "E:\\D\\Anaconda\\lib\\site-packages\\surprise\\dataset.py:193: UserWarning: Using data.split() or using load_from_folds() without using a CV iterator is now deprecated. \n",
      "  UserWarning)\n"
     ]
    },
    {
     "name": "stdout",
     "output_type": "stream",
     "text": [
      "Evaluating RMSE, MAE of algorithm SVD.\n",
      "\n",
      "------------\n",
      "Fold 1\n",
      "RMSE: 5.3598\n",
      "MAE:  4.8929\n",
      "------------\n",
      "Fold 2\n",
      "RMSE: 5.3666\n",
      "MAE:  4.9000\n",
      "------------\n",
      "Fold 3\n",
      "RMSE: 5.3693\n",
      "MAE:  4.9043\n",
      "------------\n",
      "Fold 4\n",
      "RMSE: 5.3599\n",
      "MAE:  4.8947\n",
      "------------\n",
      "Fold 5\n",
      "RMSE: 5.3722\n",
      "MAE:  4.9070\n",
      "------------\n",
      "------------\n",
      "Mean RMSE: 5.3655\n",
      "Mean MAE : 4.8998\n",
      "------------\n",
      "------------\n"
     ]
    }
   ],
   "source": [
    "### 使用SVD\n",
    "from surprise import SVD, evaluate\n",
    "algo = SVD()\n",
    "perf = evaluate(algo, music_data, measures=['RMSE', 'MAE'])"
   ]
  },
  {
   "cell_type": "code",
   "execution_count": 31,
   "metadata": {
    "collapsed": true
   },
   "outputs": [],
   "source": [
    "# ### 使用SVD++\n",
    "# from surprise import SVDpp, evaluate\n",
    "# algo = SVDpp()\n",
    "# perf = evaluate(algo, music_data, measures=['RMSE', 'MAE'])"
   ]
  },
  {
   "cell_type": "code",
   "execution_count": 32,
   "metadata": {},
   "outputs": [
    {
     "name": "stderr",
     "output_type": "stream",
     "text": [
      "E:\\D\\Anaconda\\lib\\site-packages\\surprise\\evaluate.py:66: UserWarning: The evaluate() method is deprecated. Please use model_selection.cross_validate() instead.\n",
      "  'model_selection.cross_validate() instead.', UserWarning)\n"
     ]
    },
    {
     "name": "stdout",
     "output_type": "stream",
     "text": [
      "Evaluating RMSE, MAE of algorithm NMF.\n",
      "\n",
      "------------\n",
      "Fold 1\n",
      "RMSE: 5.3873\n",
      "MAE:  4.9696\n",
      "------------\n",
      "Fold 2\n",
      "RMSE: 5.3955\n",
      "MAE:  4.9799\n",
      "------------\n",
      "Fold 3\n",
      "RMSE: 5.3990\n",
      "MAE:  4.9872\n",
      "------------\n",
      "Fold 4\n",
      "RMSE: 5.3883\n",
      "MAE:  4.9728\n",
      "------------\n",
      "Fold 5\n",
      "RMSE: 5.4013\n",
      "MAE:  4.9875\n",
      "------------\n",
      "------------\n",
      "Mean RMSE: 5.3943\n",
      "Mean MAE : 4.9794\n",
      "------------\n",
      "------------\n",
      "        Fold 1  Fold 2  Fold 3  Fold 4  Fold 5  Mean    \n",
      "RMSE    5.3873  5.3955  5.3990  5.3883  5.4013  5.3943  \n",
      "MAE     4.9696  4.9799  4.9872  4.9728  4.9875  4.9794  \n"
     ]
    },
    {
     "name": "stderr",
     "output_type": "stream",
     "text": [
      "E:\\D\\Anaconda\\lib\\site-packages\\surprise\\dataset.py:193: UserWarning: Using data.split() or using load_from_folds() without using a CV iterator is now deprecated. \n",
      "  UserWarning)\n"
     ]
    }
   ],
   "source": [
    "### 使用NMF\n",
    "from surprise import NMF\n",
    "algo = NMF()\n",
    "perf = evaluate(algo, music_data, measures=['RMSE', 'MAE'])\n",
    "print_perf(perf)"
   ]
  }
 ],
 "metadata": {
  "kernelspec": {
   "display_name": "Python 3",
   "language": "python",
   "name": "python3"
  },
  "language_info": {
   "codemirror_mode": {
    "name": "ipython",
    "version": 3
   },
   "file_extension": ".py",
   "mimetype": "text/x-python",
   "name": "python",
   "nbconvert_exporter": "python",
   "pygments_lexer": "ipython3",
   "version": "3.6.3"
  },
  "toc": {
   "base_numbering": 1,
   "nav_menu": {},
   "number_sections": true,
   "sideBar": true,
   "skip_h1_title": false,
   "title_cell": "Table of Contents",
   "title_sidebar": "Contents",
   "toc_cell": false,
   "toc_position": {},
   "toc_section_display": true,
   "toc_window_display": false
  }
 },
 "nbformat": 4,
 "nbformat_minor": 1
}
