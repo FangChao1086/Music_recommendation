{
 "cells": [
  {
   "cell_type": "markdown",
   "metadata": {},
   "source": [
    "# 音乐推荐系统\n",
    "by  [@姓方超级棒](https://blog.csdn.net/weixin_43824059)  "
   ]
  },
  {
   "cell_type": "markdown",
   "metadata": {},
   "source": [
    "## 数据说明"
   ]
  },
  {
   "cell_type": "markdown",
   "metadata": {},
   "source": [
    "网易云音乐中80w首歌400w+次收藏的歌单，数据存储格式为json格式，格式说明如下："
   ]
  },
  {
   "cell_type": "markdown",
   "metadata": {},
   "source": [
    "### 每个歌单的格式"
   ]
  },
  {
   "cell_type": "markdown",
   "metadata": {},
   "source": [
    "```\n",
    "{\n",
    "    \"result\": {\n",
    "        \"id\": 111450065,\n",
    "        \"status\": 0,\n",
    "        \"commentThreadId\": \"A_PL_0_111450065\",\n",
    "        \"trackCount\": 120,\n",
    "        \"updateTime\": 1460164523907,\n",
    "        \"commentCount\": 227,\n",
    "        \"ordered\": true,\n",
    "        \"anonimous\": false,\n",
    "        \"highQuality\": false,\n",
    "        \"subscribers\": [],\n",
    "        \"playCount\": 687070,\n",
    "        \"trackNumberUpdateTime\": 1460164523907,\n",
    "        \"createTime\": 1443528317662,\n",
    "        \"name\": \"带本书去旅行吧,人生最美好的时光在路上。\",\n",
    "        \"cloudTrackCount\": 0,\n",
    "        \"shareCount\": 149,\n",
    "        \"adType\": 0,\n",
    "        \"trackUpdateTime\": 1494134249465,\n",
    "        \"userId\": 39256799,\n",
    "        \"coverImgId\": 3359008023885470,\n",
    "        \"coverImgUrl\": \"http://p1.music.126.net/2ZFcuSJ6STR8WgzkIi2U-Q==/3359008023885470.jpg\",\n",
    "        \"artists\": null,\n",
    "        \"newImported\": false,\n",
    "        \"subscribed\": false,\n",
    "        \"privacy\": 0,\n",
    "        \"specialType\": 0,\n",
    "        \"description\": \"现在是一年中最美好的时节，世界上很多地方都不冷不热，有湛蓝的天空和清冽的空气，正是出游的好时光。长假将至，你是不是已经收拾行装准备出发了？行前焦虑症中把衣服、洗漱用品、充电器之类东西忙忙碌碌地丢进箱子，打进背包的时候，我打赌你肯定会留个位置给一位好朋友：书。不是吗？不管是打发时间，小读怡情，还是为了做好攻略备不时之需，亦或是为了小小地装上一把，你都得有一本书傍身呀。读大仲马，我是复仇的伯爵；读柯南道尔，我穿梭在雾都的暗夜；读村上春树，我是寻羊的冒险者；读马尔克斯，目睹百年家族兴衰；读三毛，让灵魂在撒哈拉流浪；读老舍，嗅着老北京的气息；读海茵莱茵，于科幻狂流遨游；读卡夫卡，在城堡中审判……读书的孩子不会孤单，读书的孩子永远幸福。\",\n",
    "        \"subscribedCount\": 10882,\n",
    "        \"totalDuration\": 0,\n",
    "        \"tags\": [\n",
    "            \"旅行\",\n",
    "            \"钢琴\",\n",
    "            \"安静\"]\n",
    "        \"creator\": {\n",
    "            \"followed\": false,\n",
    "            \"remarkName\": null,\n",
    "            \"expertTags\": [\n",
    "                \"古典\",\n",
    "                \"民谣\",\n",
    "                \"华语\"\n",
    "            ],\n",
    "            \"userId\": 39256799,\n",
    "            \"authority\": 0,\n",
    "            \"userType\": 0,\n",
    "            \"gender\": 1,\n",
    "            \"backgroundImgId\": 3427177752524551,\n",
    "            \"city\": 360600,\n",
    "            \"mutual\": false,\n",
    "            \"avatarUrl\": \"http://p1.music.126.net/TLRTrJpOM5lr68qJv1IyGQ==/1400777825738419.jpg\",\n",
    "            \"avatarImgIdStr\": \"1400777825738419\",\n",
    "            \"detailDescription\": \"\",\n",
    "            \"province\": 360000,\n",
    "            \"description\": \"\",\n",
    "            \"birthday\": 637516800000,\n",
    "            \"nickname\": \"有梦人生不觉寒\",\n",
    "            \"vipType\": 0,\n",
    "            \"avatarImgId\": 1400777825738419,\n",
    "            \"defaultAvatar\": false,\n",
    "            \"djStatus\": 0,\n",
    "            \"accountStatus\": 0,\n",
    "            \"backgroundImgIdStr\": \"3427177752524551\",\n",
    "            \"backgroundUrl\": \"http://p1.music.126.net/LS96S_6VP9Hm7-T447-X0g==/3427177752524551.jpg\",\n",
    "            \"signature\": \"漫无目的的乱听，听着，听着，竟然灵魂出窍了。更多精品音乐美图分享请加我微信hu272367751。微信是我的精神家园，有我最真诚的分享。\",\n",
    "            \"authStatus\": 0}\n",
    "        \"tracks\": [{歌曲1},{歌曲2}, ...]\n",
    "     }\n",
    "}\n",
    "```"
   ]
  },
  {
   "cell_type": "markdown",
   "metadata": {},
   "source": [
    "### 每首歌曲的格式为："
   ]
  },
  {
   "cell_type": "markdown",
   "metadata": {},
   "source": [
    "```\n",
    "{\n",
    "\t\"id\": 29738501,\n",
    "\t\"name\": \"跟着你到天边 钢琴版\",\n",
    "\t\"duration\": 174001,\n",
    "\t\"hearTime\": 0,\n",
    "\t\"commentThreadId\": \"R_SO_4_29738501\",\n",
    "\t\"score\": 40,\n",
    "\t\"mvid\": 0,\n",
    "\t\"hMusic\": null,\n",
    "\t\"disc\": \"\",\n",
    "\t\"fee\": 0,\n",
    "\t\"no\": 1,\n",
    "\t\"rtUrl\": null,\n",
    "\t\"ringtone\": null,\n",
    "\t\"rtUrls\": [],\n",
    "\t\"rurl\": null,\n",
    "\t\"status\": 0,\n",
    "\t\"ftype\": 0,\n",
    "\t\"mp3Url\": \"http://m2.music.126.net/vrVa20wHs8iIe0G8Oe7I9Q==/3222668581877701.mp3\",\n",
    "\t\"audition\": null,\n",
    "\t\"playedNum\": 0,\n",
    "\t\"copyrightId\": 0,\n",
    "\t\"rtype\": 0,\n",
    "\t\"crbt\": null,\n",
    "\t\"popularity\": 40,\n",
    "\t\"dayPlays\": 0,\n",
    "\t\"alias\": [],\n",
    "\t\"copyFrom\": \"\",\n",
    "\t\"position\": 1,\n",
    "\t\"starred\": false,,\n",
    "\t\"starredNum\": 0\n",
    "\t\"bMusic\": {\n",
    "\t    \"name\": \"跟着你到天边 钢琴版\",\n",
    "\t    \"extension\": \"mp3\",\n",
    "\t    \"volumeDelta\": 0.0553125,\n",
    "\t    \"sr\": 44100,\n",
    "\t    \"dfsId\": 3222668581877701,\n",
    "\t    \"playTime\": 174001,\n",
    "\t    \"bitrate\": 96000,\n",
    "\t    \"id\": 52423394,\n",
    "\t    \"size\": 2089713\n",
    "\t},\n",
    "\t\"lMusic\": {\n",
    "\t    \"name\": \"跟着你到天边 钢琴版\",\n",
    "\t    \"extension\": \"mp3\",\n",
    "\t    \"volumeDelta\": 0.0553125,\n",
    "\t    \"sr\": 44100,\n",
    "\t    \"dfsId\": 3222668581877701,\n",
    "\t    \"playTime\": 174001,\n",
    "\t    \"bitrate\": 96000,\n",
    "\t    \"id\": 52423394,\n",
    "\t    \"size\": 2089713\n",
    "\t},\n",
    "\t\"mMusic\": {\n",
    "\t    \"name\": \"跟着你到天边 钢琴版\",\n",
    "\t    \"extension\": \"mp3\",\n",
    "\t    \"volumeDelta\": -0.000265076,\n",
    "\t    \"sr\": 44100,\n",
    "\t    \"dfsId\": 3222668581877702,\n",
    "\t    \"playTime\": 174001,\n",
    "\t    \"bitrate\": 128000,\n",
    "\t    \"id\": 52423395,\n",
    "\t    \"size\": 2785510\n",
    "\t},\n",
    "\t\"artists\": [\n",
    "\t    {\n",
    "\t\t\"img1v1Url\": \"http://p1.music.126.net/6y-UleORITEDbvrOLV0Q8A==/5639395138885805.jpg\",\n",
    "\t\t\"name\": \"群星\",\n",
    "\t\t\"briefDesc\": \"\",\n",
    "\t\t\"albumSize\": 0,\n",
    "\t\t\"img1v1Id\": 0,\n",
    "\t\t\"musicSize\": 0,\n",
    "\t\t\"alias\": [],\n",
    "\t\t\"picId\": 0,\n",
    "\t\t\"picUrl\": \"http://p1.music.126.net/6y-UleORITEDbvrOLV0Q8A==/5639395138885805.jpg\",\n",
    "\t\t\"trans\": \"\",\n",
    "\t\t\"id\": 122455\n",
    "\t    }\n",
    "\t],\n",
    "\t\"album\": {\n",
    "\t    \"id\": 3054006,\n",
    "\t    \"status\": 2,\n",
    "\t    \"type\": null,\n",
    "\t    \"tags\": \"\",\n",
    "\t    \"size\": 69,\n",
    "\t    \"blurPicUrl\": \"http://p1.music.126.net/2XLMVZhzVZCOunaRCOQ7Bg==/3274345629219531.jpg\",\n",
    "\t    \"copyrightId\": 0,\n",
    "\t    \"name\": \"热门华语248\",\n",
    "\t    \"companyId\": 0,\n",
    "\t    \"songs\": [],\n",
    "\t    \"description\": \"\",\n",
    "\t    \"pic\": 3274345629219531,\n",
    "\t    \"commentThreadId\": \"R_AL_3_3054006\",\n",
    "\t    \"publishTime\": 1388505600004,\n",
    "\t    \"briefDesc\": \"\",\n",
    "\t    \"company\": \"\",\n",
    "\t    \"picId\": 3274345629219531,\n",
    "\t    \"alias\": [],\n",
    "\t    \"picUrl\": \"http://p1.music.126.net/2XLMVZhzVZCOunaRCOQ7Bg==/3274345629219531.jpg\",\n",
    "\t    \"artists\": [\n",
    "\t\t{\n",
    "\t\t    \"img1v1Url\": \"http://p1.music.126.net/6y-UleORITEDbvrOLV0Q8A==/5639395138885805.jpg\",\n",
    "\t\t    \"name\": \"群星\",\n",
    "\t\t    \"briefDesc\": \"\",\n",
    "\t\t    \"albumSize\": 0,\n",
    "\t\t    \"img1v1Id\": 0,\n",
    "\t\t    \"musicSize\": 0,\n",
    "\t\t    \"alias\": [],\n",
    "\t\t    \"picId\": 0,\n",
    "\t\t    \"picUrl\": \"http://p1.music.126.net/6y-UleORITEDbvrOLV0Q8A==/5639395138885805.jpg\",\n",
    "\t\t    \"trans\": \"\",\n",
    "\t\t    \"id\": 122455\n",
    "\t\t}\n",
    "\t    ],\n",
    "\t    \"artist\": {\n",
    "\t\t\"img1v1Url\": \"http://p1.music.126.net/6y-UleORITEDbvrOLV0Q8A==/5639395138885805.jpg\",\n",
    "\t\t\"name\": \"\",\n",
    "\t\t\"briefDesc\": \"\",\n",
    "\t\t\"albumSize\": 0,\n",
    "\t\t\"img1v1Id\": 0,\n",
    "\t\t\"musicSize\": 0,\n",
    "\t\t\"alias\": [],\n",
    "\t\t\"picId\": 0,\n",
    "\t\t\"picUrl\": \"http://p1.music.126.net/6y-UleORITEDbvrOLV0Q8A==/5639395138885805.jpg\",\n",
    "\t\t\"trans\": \"\",\n",
    "\t\t\"id\": 0\n",
    "\t    }\n",
    "\t}\n",
    "}\n",
    "```"
   ]
  },
  {
   "cell_type": "markdown",
   "metadata": {},
   "source": [
    "## 数据解析"
   ]
  },
  {
   "cell_type": "markdown",
   "metadata": {},
   "source": [
    "### 原始数据=>歌单数据\n",
    "歌单：_**歌单名称，歌单id，收藏数，所属分类**_ 4个歌单维度的信息 <br>\n",
    "歌曲： _**歌曲id，歌曲名，歌手，歌曲热度**_ 4个维度信息歌曲的信息<br>\n",
    "\n",
    "组织成如下格式：\n",
    "```\n",
    "漫步西欧小镇上##小语种,旅行##69413685##474\t18682332::Wäg vo dir::Joy Amelie::70.0\t4335372::Only When I Sleep::The Corrs::60.0\t2925502::Si Seulement::Lynnsha::100.0\t21014930::Tu N'As Pas Cherché...::La Grande Sophie::100.0\t20932638::Du behöver aldrig mer vara rädd::Lasse Lindh::25.0\t17100518::Silent Machine::Cat Power::60.0\t3308096::Kor pai kon diew : ชอไปคนเดียว::Palmy::5.0\t1648250::les choristes::Petits Chanteurs De Saint Marc::100.0\t4376212::Paddy's Green Shamrock Shore::The High Kings::25.0\t2925400::A Todo Color::Las Escarlatinas::95.0\t19711402::Comme Toi::Vox Angeli::75.0\t3977526::Stay::Blue Cafe::100.0\t2538518::Shake::Elize::85.0\t2866799::Mon Ange::Jena Lee::85.0\t5191949::Je M'appelle Helene::Hélène Rolles::85.0\t20036323::Ich Lieb' Dich Immer Noch So Sehr::Kate & Ben::100.0\n",
    "```"
   ]
  },
  {
   "cell_type": "code",
   "execution_count": 1,
   "metadata": {
    "collapsed": true
   },
   "outputs": [],
   "source": [
    "#coding: utf-8\n",
    "import json\n",
    "import sys\n",
    "\n",
    "def parse_song_line(in_line):\n",
    "\tdata = json.loads(in_line)\n",
    "\tname = data['result']['name']\n",
    "\ttags = \",\".join(data['result']['tags'])\n",
    "\tsubscribed_count = data['result']['subscribedCount']\n",
    "\tif(subscribed_count<100):\n",
    "\t\treturn False\n",
    "\tplaylist_id = data['result']['id']\n",
    "\tsong_info = ''\n",
    "\tsongs = data['result']['tracks']\n",
    "\tfor song in songs:\n",
    "\t\ttry:\n",
    "\t\t\tsong_info += \"\\t\"+\":::\".join([str(song['id']),song['name'],song['artists'][0]['name'],str(song['popularity'])])\n",
    "\t\texcept Exception as e:\n",
    "\t\t\t#print e\n",
    "\t\t\t#print song\n",
    "\t\t\tcontinue\n",
    "\treturn name+\"##\"+tags+\"##\"+str(playlist_id)+\"##\"+str(subscribed_count)+song_info\n",
    "\n",
    "def parse_file(in_file, out_file):\n",
    "\tout = open(out_file, 'w', encoding='UTF-8')\n",
    "\tfor line in open(in_file,encoding='UTF-8'):\n",
    "\t\tresult = parse_song_line(line)\n",
    "\t\tif(result):\n",
    " \t\t\tout.write(result.strip()+\"\\n\")\n",
    "\tout.close()"
   ]
  },
  {
   "cell_type": "code",
   "execution_count": 2,
   "metadata": {
    "collapsed": true
   },
   "outputs": [],
   "source": [
    "# 第一步解析\n",
    "parse_file(\"data/playlistdetail.all.json\", \"data/163_music_playlist.txt\")"
   ]
  },
  {
   "cell_type": "markdown",
   "metadata": {},
   "source": [
    "### 歌单数据=>推荐系统格式数据"
   ]
  },
  {
   "cell_type": "markdown",
   "metadata": {},
   "source": [
    "主流的python推荐系统框架，评分数据格式为 user item rating timestamp，为了简单，我们也把数据处理成这个格式。"
   ]
  },
  {
   "cell_type": "code",
   "execution_count": null,
   "metadata": {
    "collapsed": true
   },
   "outputs": [],
   "source": [
    "#coding: utf-8\n",
    "#解析成userid itemid rating timestamp行格式\n",
    "import json\n",
    "import sys\n",
    "import random\n",
    "\n",
    "def is_null(s): \n",
    "\treturn len(s.split(','))>2\n",
    "\n",
    "def parse_song_info1(song_info):\n",
    "\ttry:\n",
    "\t\tsong_id, name, artist, popularity = song_info.split(\":::\")\n",
    "# \t\ta  = round((float(popularity)+random.randint(0,5))/110,2)\n",
    "\t\ta  = int((float(popularity)+random.randint(0,20))/10+1)\n",
    "\t\treturn \",\".join([song_id, str(a), '1300000'])\n",
    "# \t\treturn \",\".join([song_id,\"1.0\",'1300000'])\n",
    "\texcept Exception as e:\n",
    "\t\treturn \"\"\n",
    "\n",
    "def parse_playlist_line1(in_line):\n",
    "\ttry:\n",
    "\t\tcontents = in_line.strip().split('\\t')\n",
    "\t\tname, tags, playlist_id, subscribed_count = contents[0].split('##')\n",
    "\t\tsongs_info = map(lambda x:playlist_id+','+parse_song_info1(x), contents[1:])\n",
    "\t\tsongs_info = filter(is_null, songs_info)\n",
    "\t\treturn \"\\n\".join(songs_info)\n",
    "\texcept Exception as e:\n",
    "\t\tprint(e)\n",
    "\t\treturn False\n",
    "\t\t\n",
    "\n",
    "def parse_file1(in_file, out_file):\n",
    "\tout = open(out_file, 'w', encoding='UTF-8')\n",
    "\tfor line in open(in_file, encoding='UTF-8'):\n",
    "\t\tresult = parse_playlist_line1(line)\n",
    "\t\tif(result):\n",
    "\t\t\tout.write(result.strip()+\"\\n\")\n",
    "\tout.close()\n",
    "    "
   ]
  },
  {
   "cell_type": "code",
   "execution_count": null,
   "metadata": {
    "collapsed": true
   },
   "outputs": [],
   "source": [
    "# 第二步解析(解析.txt文件)\n",
    "parse_file1(\"data/163_music_playlist.txt\", \"data/163_music_suprise_format.txt\")"
   ]
  },
  {
   "cell_type": "code",
   "execution_count": null,
   "metadata": {
    "collapsed": true
   },
   "outputs": [],
   "source": [
    "#coding: utf-8\n",
    "#解析成userid itemid rating timestamp行格式\n",
    "import json\n",
    "import sys\n",
    "import random\n",
    "\n",
    "def is_null(s): \n",
    "\treturn len(s.split(','))>2\n",
    "\n",
    "def parse_song_info2(song_info):\n",
    "\ttry:\n",
    "\t\tsong_id, name, artist, popularity = song_info.split(\"::\")\n",
    "# \t\ta  = round((float(popularity)+random.randint(0,5))/110,2)\n",
    "\t\ta  = int((float(popularity)+random.randint(0,20))/10+1)\n",
    "\t\treturn \",\".join([song_id, str(a), '1300000'])\n",
    "# \t\treturn \",\".join([song_id,\"1.0\",'1300000'])\n",
    "\texcept Exception as e:\n",
    "\t\treturn \"\"\n",
    "\n",
    "def parse_playlist_line2(in_line):\n",
    "\ttry:\n",
    "\t\tcontents = in_line.strip().split('\\t')\n",
    "\t\tname, tags, playlist_id, subscribed_count = contents[0].split('##')\n",
    "\t\tsongs_info = map(lambda x:playlist_id+','+parse_song_info2(x), contents[1:])\n",
    "\t\tsongs_info = filter(is_null, songs_info)\n",
    "\t\treturn \"\\n\".join(songs_info)\n",
    "\texcept Exception as e:\n",
    "\t\tprint(e)\n",
    "\t\treturn False\n",
    "\t\t\n",
    "\n",
    "def parse_file2(in_file, out_file):\n",
    "\tout = open(out_file, 'w', encoding='UTF-8')\n",
    "\tfor line in open(in_file, encoding='UTF-8'):\n",
    "\t\tresult = parse_playlist_line2(line)\n",
    "\t\tif(result):\n",
    "\t\t\tout.write(result.strip()+\"\\n\")\n",
    "\tout.close()\n"
   ]
  },
  {
   "cell_type": "code",
   "execution_count": null,
   "metadata": {
    "collapsed": true
   },
   "outputs": [],
   "source": [
    "# 第二步解析(解析.playlist文件)\n",
    "parse_file2(\"data/popular.playlist\", \"data/popular_music_suprise_format.txt\")"
   ]
  },
  {
   "cell_type": "markdown",
   "metadata": {},
   "source": [
    "### **歌单id=>歌单名**"
   ]
  },
  {
   "cell_type": "code",
   "execution_count": null,
   "metadata": {
    "collapsed": true
   },
   "outputs": [],
   "source": [
    "#coding: utf-8\n",
    "import  pickle as pickle\n",
    "import sys\n",
    "\n",
    "def parse_playlist_get_info(in_line, playlist_dic, song_dic):\n",
    "\tcontents = in_line.strip().split(\"\\t\")\n",
    "\tname, tags, playlist_id, subscribed_count = contents[0].split(\"##\")\n",
    "\tplaylist_dic[playlist_id] = name\n",
    "\tfor song in contents[1:]:\n",
    "\t\ttry:\n",
    "\t\t\tsong_id, song_name, artist, popularity = song.split(\":::\")\n",
    "\t\t\tsong_dic[song_id] = song_name+\"\\t\"+artist\n",
    "\t\texcept Exception as e:\n",
    "\t\t\tprint(\"song format error\")\n",
    "\t\t\tprint(song+\"\\n\")\n",
    "\n",
    "\t\t\n",
    "\n",
    "def parse_file(in_file, out_playlist, out_song):\n",
    "\t#从歌单id到歌单名称的映射字典\n",
    "\tplaylist_dic = {}\n",
    "\t#从歌曲id到歌曲名称的映射字典\n",
    "\tsong_dic = {}\n",
    "\tfor line in open(in_file,encoding=\"UTF-8\"):\n",
    "\t\tparse_playlist_get_info(line, playlist_dic, song_dic)\n",
    "\t#把映射字典保存在二进制文件中\n",
    "\tpickle.dump(playlist_dic, open(out_playlist,\"wb\")) \n",
    "\t#可以通过 playlist_dic = pickle.load(open(\"playlist.pkl\",\"rb\"))重新载入\n",
    "\tpickle.dump(song_dic, open(out_song,\"wb\"))"
   ]
  },
  {
   "cell_type": "code",
   "execution_count": null,
   "metadata": {
    "collapsed": true
   },
   "outputs": [],
   "source": [
    "parse_file(\"data/163_music_playlist.txt\", \"data/playlist.pkl\", \"data/song.pkl\")"
   ]
  },
  {
   "cell_type": "markdown",
   "metadata": {},
   "source": [
    "### **歌曲id=>歌曲名** "
   ]
  },
  {
   "cell_type": "code",
   "execution_count": null,
   "metadata": {
    "collapsed": true
   },
   "outputs": [],
   "source": [
    "#coding: utf-8\n",
    "import  pickle as pickle\n",
    "import sys\n",
    "\n",
    "def parse_playlist_get_info(in_line, playlist_dic, song_dic):\n",
    "\tcontents = in_line.strip().split(\"\\t\")\n",
    "\tname, tags, playlist_id, subscribed_count = contents[0].split(\"##\")\n",
    "\tplaylist_dic[playlist_id] = name\n",
    "\tfor song in contents[1:]:\n",
    "\t\ttry:\n",
    "\t\t\tsong_id, song_name, artist, popularity = song.split(\"::\")\n",
    "\t\t\tsong_dic[song_id] = song_name+\"\\t\"+artist\n",
    "\t\texcept Exception as e:\n",
    "\t\t\tprint(\"song format error\")\n",
    "\t\t\tprint(song+\"\\n\")\n",
    "\n",
    "\t\t\n",
    "\n",
    "def parse_file(in_file, out_playlist, out_song):\n",
    "\t#从歌单id到歌单名称的映射字典\n",
    "\tplaylist_dic = {}\n",
    "\t#从歌曲id到歌曲名称的映射字典\n",
    "\tsong_dic = {}\n",
    "\tfor line in open(in_file,encoding=\"UTF-8\"):\n",
    "\t\tparse_playlist_get_info(line, playlist_dic, song_dic)\n",
    "\t#把映射字典保存在二进制文件中\n",
    "\tpickle.dump(playlist_dic, open(out_playlist,\"wb\")) \n",
    "\t#可以通过 playlist_dic = pickle.load(open(\"playlist.pkl\",\"rb\"))重新载入\n",
    "\tpickle.dump(song_dic, open(out_song,\"wb\"))"
   ]
  },
  {
   "cell_type": "code",
   "execution_count": null,
   "metadata": {
    "collapsed": true
   },
   "outputs": [],
   "source": [
    "parse_file(\"data/popular.playlist\", \"dat/popular_playlist.pkl\", \"data/popular_song.pkl\")"
   ]
  },
  {
   "cell_type": "markdown",
   "metadata": {},
   "source": [
    "参考作者：[@寒小阳](http://blog.csdn.net/han_xiaoyang)"
   ]
  }
 ],
 "metadata": {
  "kernelspec": {
   "display_name": "Python 3",
   "language": "python",
   "name": "python3"
  },
  "language_info": {
   "codemirror_mode": {
    "name": "ipython",
    "version": 3
   },
   "file_extension": ".py",
   "mimetype": "text/x-python",
   "name": "python",
   "nbconvert_exporter": "python",
   "pygments_lexer": "ipython3",
   "version": "3.6.3"
  },
  "toc": {
   "base_numbering": 1,
   "nav_menu": {},
   "number_sections": true,
   "sideBar": true,
   "skip_h1_title": false,
   "title_cell": "Table of Contents",
   "title_sidebar": "Contents",
   "toc_cell": false,
   "toc_position": {},
   "toc_section_display": true,
   "toc_window_display": true
  }
 },
 "nbformat": 4,
 "nbformat_minor": 1
}
